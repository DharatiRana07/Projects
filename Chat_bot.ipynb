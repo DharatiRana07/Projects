{
 "cells": [
  {
   "cell_type": "code",
   "execution_count": 1,
   "metadata": {},
   "outputs": [],
   "source": [
    "import nltk"
   ]
  },
  {
   "cell_type": "code",
   "execution_count": 2,
   "metadata": {},
   "outputs": [],
   "source": [
    "#-rule based chatbot(common product)\n",
    "#-chat gpt"
   ]
  },
  {
   "cell_type": "code",
   "execution_count": 3,
   "metadata": {},
   "outputs": [],
   "source": [
    "from nltk.chat.util import Chat,reflections"
   ]
  },
  {
   "cell_type": "code",
   "execution_count": 4,
   "metadata": {},
   "outputs": [],
   "source": [
    "#question answer pairs\n",
    "que1=r'how are you'\n",
    "answers1=[\n",
    "    'all well',\n",
    "    'I am good',\n",
    "    'awesome' \n",
    "]\n",
    "que2=r'what can you do'\n",
    "answers2=[\n",
    "    'I can reply your querries',\n",
    "    'I am here to answer your questions',\n",
    "    'I can chat with you'\n",
    "]\n",
    "que3=r'what is your name'\n",
    "answers3=[\n",
    "    'My name is chatty',\n",
    "    'I am chatty'\n",
    "]\n",
    "qa_pair=[\n",
    "    (que1,answers1),\n",
    "    (que2,answers2),\n",
    "    (que3,answers3),\n",
    "]"
   ]
  },
  {
   "cell_type": "code",
   "execution_count": 5,
   "metadata": {},
   "outputs": [],
   "source": [
    "chatbot=Chat(qa_pair)"
   ]
  },
  {
   "cell_type": "code",
   "execution_count": 6,
   "metadata": {},
   "outputs": [
    {
     "name": "stdout",
     "output_type": "stream",
     "text": [
      "Q: aaj mousam kesa haii\n",
      "A: None\n"
     ]
    }
   ],
   "source": [
    "question=input('Enter your question:')\n",
    "print('Q:',question)\n",
    "reply=chatbot.respond(question)\n",
    "print('A:',reply)"
   ]
  },
  {
   "attachments": {},
   "cell_type": "markdown",
   "metadata": {},
   "source": [
    "Regular expression symbols\n",
    "-------------------\n",
    "()     group\n",
    ".     any character(except new line)\n",
    "*     zero or more occurance\n",
    "[]    set of characters\n",
    "a-z   all small alphabets\n",
    "A-z   all caps alphabets\n",
    "0-9   all numbers\n",
    "^     starting with\n",
    "$     ends with\n",
    "?     zero or one occurance only\n",
    "+     one or more occurance\n",
    "{}    exact no. of occurance\n",
    "\\w    only word characters(alphabets,numbers and underscore)\n",
    "\\w    not word characters  "
   ]
  },
  {
   "cell_type": "code",
   "execution_count": 9,
   "metadata": {},
   "outputs": [],
   "source": [
    "## regular expression\n",
    "#question answer pairs\n",
    "que1=r'how are you'\n",
    "answers1=['all well','I am good','awesome' ]\n",
    "que2=r'what can you do'\n",
    "answers2=['I can reply your querries',    'I am here to answer your qestions',   'I can chat with you']\n",
    "que3=r'(.*)your name'\n",
    "answers3=[ 'My name is chatty',    'I am chatty']\n",
    "que4=r'(.*)mosum(.*)baarish'\n",
    "answers4=['today is rainy day'  ,  'it will rain today',    'aaj mosum kharab h baarish ho skti h']\n",
    "qa_pair=[\n",
    "    (que1,answers1),\n",
    "    (que2,answers2),\n",
    "    (que3,answers3),\n",
    "    (que4,answers4)\n",
    "]\n",
    "chatbot=Chat(qa_pair)"
   ]
  },
  {
   "cell_type": "code",
   "execution_count": 11,
   "metadata": {},
   "outputs": [
    {
     "name": "stdout",
     "output_type": "stream",
     "text": [
      "Q: aaj mosum kesa hai\n",
      "A: None\n"
     ]
    }
   ],
   "source": [
    "question=input('Enter your question:')\n",
    "print('Q:',question)\n",
    "reply=chatbot.respond(question)\n",
    "print('A:',reply)"
   ]
  },
  {
   "cell_type": "code",
   "execution_count": null,
   "metadata": {},
   "outputs": [],
   "source": []
  }
 ],
 "metadata": {
  "kernelspec": {
   "display_name": "Python 3",
   "language": "python",
   "name": "python3"
  },
  "language_info": {
   "codemirror_mode": {
    "name": "ipython",
    "version": 3
   },
   "file_extension": ".py",
   "mimetype": "text/x-python",
   "name": "python",
   "nbconvert_exporter": "python",
   "pygments_lexer": "ipython3",
   "version": "3.11.3"
  },
  "orig_nbformat": 4
 },
 "nbformat": 4,
 "nbformat_minor": 2
}
